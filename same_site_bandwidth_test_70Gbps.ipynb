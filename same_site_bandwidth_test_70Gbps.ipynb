{
 "cells": [
  {
   "cell_type": "markdown",
   "metadata": {},
   "source": [
    "# Create a Local Ethernet (Layer 2) Network\n",
    "\n",
    "This notebook shows how to create an isolated local Ethernet and connect compute nodes to it.  \n"
   ]
  },
  {
   "cell_type": "markdown",
   "metadata": {},
   "source": [
    "## Import the FABlib Library\n"
   ]
  },
  {
   "cell_type": "code",
   "execution_count": 1,
   "metadata": {},
   "outputs": [
    {
     "name": "stdout",
     "output_type": "stream",
     "text": [
      "-----------------------------------  -------------------------------------------------\n",
      "credmgr_host                         cm.fabric-testbed.net\n",
      "orchestrator_host                    orchestrator.fabric-testbed.net\n",
      "fabric_token                         /home/fabric/work/fabric_config/fabric_token.json\n",
      "project_id                           1630021f-0a0c-4792-a241-997f410d36e1\n",
      "bastion_username                     minawm_0041350787\n",
      "bastion_key_filename                 /home/fabric/work/Mina_Bastion_Key2\n",
      "bastion_public_addr                  bastion-1.fabric-testbed.net\n",
      "bastion_passphrase                   None\n",
      "slice_public_key_file                /home/fabric/.ssh/id_rsa.pub\n",
      "slice_private_key_file               /home/fabric/.ssh/id_rsa\n",
      "fabric_slice_private_key_passphrase  None\n",
      "fablib_log_file                      /tmp/fablib/fablib.log\n",
      "fablib_log_level                     INFO\n",
      "-----------------------------------  -------------------------------------------------\n"
     ]
    }
   ],
   "source": [
    "from fabrictestbed_extensions.fablib.fablib import FablibManager as fablib_manager\n",
    "\n",
    "fablib = fablib_manager()\n",
    "                     \n",
    "fablib.show_config()"
   ]
  },
  {
   "cell_type": "markdown",
   "metadata": {},
   "source": [
    "## (Optional): Query for Available Testbed Resources and Settings\n",
    "\n",
    "This optional command queries the FABRIC services to find the available resources. It may be useful for finding a site with available capacity."
   ]
  },
  {
   "cell_type": "code",
   "execution_count": 2,
   "metadata": {},
   "outputs": [
    {
     "name": "stdout",
     "output_type": "stream",
     "text": [
      "Name      CPUs  Cores    RAM (G)    Disk (G)       Basic (100 Gbps NIC)    ConnectX-6 (100 Gbps x2 NIC)    ConnectX-5 (25 Gbps x2 NIC)    P4510 (NVMe 1TB)    Tesla T4 (GPU)    RTX6000 (GPU)\n",
      "------  ------  -------  ---------  -------------  ----------------------  ------------------------------  -----------------------------  ------------------  ----------------  ---------------\n",
      "MICH         6  192/192  1536/1536  60600/60600    381/381                 2/2                             2/2                            10/10               2/2               3/3\n",
      "UTAH        10  316/320  2544/2560  116380/116400  634/635                 2/2                             4/4                            16/16               4/4               5/5\n",
      "TACC        10  270/320  2478/2560  116210/116400  625/635                 0/2                             2/4                            16/16               4/4               6/6\n",
      "WASH         6  192/192  1536/1536  60600/60600    381/381                 2/2                             2/2                            10/10               2/2               3/3\n",
      "NCSA         6  190/192  1528/1536  60590/60600    380/381                 2/2                             2/2                            10/10               2/2               3/3\n",
      "DALL         6  192/192  1536/1536  60600/60600    381/381                 2/2                             2/2                            10/10               2/2               3/3\n",
      "MAX         10  284/320  2424/2560  116070/116400  615/635                 1/2                             0/4                            16/16               4/4               6/6\n",
      "MASS         4  124/128  1008/1024  55750/55800    252/254                 1/2                             0/0                            6/6                 0/0               3/3\n",
      "SALT         6  192/192  1536/1536  60600/60600    381/381                 2/2                             2/2                            10/10               2/2               3/3\n",
      "STAR        12  380/384  3032/3072  120190/121200  762/762                 2/2                             3/6                            20/20               6/6               6/6\n"
     ]
    }
   ],
   "source": [
    "try:\n",
    "    print(f\"{fablib.list_sites()}\")\n",
    "except Exception as e:\n",
    "    print(f\"Exception: {e}\")"
   ]
  },
  {
   "cell_type": "markdown",
   "metadata": {
    "tags": []
   },
   "source": [
    "## Create the Experiment Slice\n",
    "\n",
    "The following creates two nodes with basic NICs connected to an isolated local Ethernet.  \n",
    "\n",
    "Two nodes are created and one NIC component is added to each node.  This example uses components of model `NIC_Basic` which are SR-IOV Virtual Function on a 100 Gpbs Mellanox ConnectX-6 PCI device. The VF is accessed by the node via PCI passthrough. Other NIC models are listed below. When using dedicated PCI devices the whole physical device is allocated to one node and the device is accessed by the node using PCI passthrough. Calling the `get_interfaces()` method on a component will return a list of interfaces. Many dedicated NIC components may have more than one port.  Either port can be connected to the network.\n",
    "\n",
    "Next, add an `l2network` to the slice and pass the list of interfaces you want connected to this Ethernet. If all interfaces in the list are located on the same site, the network will automatically be a local Ethernet.  By default, a node is put on a random site.  If you want to ensure that your nodes are all on the same site you can specify the name of the site in the `add_node` methode.  You can use the `fablib.get_random_site()` method to get a random site name that can be used for both nodes.\n",
    "\n",
    "NIC component models options:\n",
    "- NIC_Basic: 100 Gbps Mellanox ConnectX-6 SR-IOV VF (1 Port)\n",
    "- NIC_ConnectX_5: 25 Gbps Dedicated Mellanox ConnectX-5 PCI Device (2 Ports) \n",
    "- NIC_ConnectX_6: 100 Gbps Dedicated Mellanox ConnectX-6 PCI Device (2 Ports) "
   ]
  },
  {
   "cell_type": "code",
   "execution_count": 60,
   "metadata": {},
   "outputs": [
    {
     "name": "stdout",
     "output_type": "stream",
     "text": [
      "Site: MAX\n"
     ]
    }
   ],
   "source": [
    "slice_name = 'MySlice1'\n",
    "\n",
    "site = 'MAX' #fablib.get_random_site()\n",
    "print(f\"Site: {site}\")\n",
    "\n",
    "node1_name = 'Node1'\n",
    "node2_name = 'Node2'\n",
    "network_name='net1'\n",
    "node1_nic_name = 'nic1'\n",
    "node2_nic_name = 'nic2'\n",
    "image='default_ubuntu_20'\n",
    "\n",
    "cores = 32\n",
    "ram = 128\n",
    "disk = 10"
   ]
  },
  {
   "cell_type": "code",
   "execution_count": 61,
   "metadata": {
    "tags": []
   },
   "outputs": [
    {
     "name": "stdout",
     "output_type": "stream",
     "text": [
      "\n",
      "---------------  ------------------------------------\n",
      "Slice Name       MySlice1\n",
      "Slice ID         6b427c19-1aef-4302-9fe1-8a8e143df119\n",
      "Slice State      StableOK\n",
      "Lease End (UTC)  2022-07-21 12:50:17 +0000\n",
      "---------------  ------------------------------------\n",
      "\n",
      "Retry: 19, Time: 208 sec\n",
      "\n",
      "ID                                    Name    Site    Host                         Cores    RAM    Disk  Image              Management IP    State    Error\n",
      "------------------------------------  ------  ------  -------------------------  -------  -----  ------  -----------------  ---------------  -------  -------\n",
      "aadfc032-4482-4ed2-ae12-cd3a6b554043  Node1   MAX     max-w4.fabric-testbed.net       32    128      10  default_ubuntu_20  63.239.135.84    Active\n",
      "181de3af-789c-4a7a-857a-c36d1dfc9d34  Node2   MAX     max-w5.fabric-testbed.net       32    128      10  default_ubuntu_20  63.239.135.95    Active\n",
      "\n",
      "Time to stable 208 seconds\n",
      "Running post_boot_config ... Time to post boot config 214 seconds\n",
      "\n",
      "Name           Node    Network      Bandwidth  VLAN    MAC                Physical OS Interface    OS Interface\n",
      "-------------  ------  ---------  -----------  ------  -----------------  -----------------------  --------------\n",
      "Node1-nic1-p1  Node1   net1                 0          16:F5:89:97:9C:62  ens7                     ens7\n",
      "Node2-nic2-p1  Node2   net1                 0          02:1A:9D:93:82:A9  ens7                     ens7\n",
      "\n",
      "Time to print interfaces 219 seconds\n"
     ]
    }
   ],
   "source": [
    "try:\n",
    "    #Create Slice\n",
    "    slice4 = fablib.new_slice(name=slice_name)\n",
    "\n",
    "    # Node1\n",
    "    node1 = slice4.add_node(name=node1_name, site=site, cores=cores, ram=ram, disk=disk)\n",
    "    iface1 = node1.add_component(model='NIC_Basic', name=node1_nic_name).get_interfaces()[0]\n",
    "    node1.set_image(image)\n",
    "    \n",
    "    # Node2\n",
    "    node2 = slice4.add_node(name=node2_name, site=site, cores=cores, ram=ram, disk=disk)\n",
    "    iface2 = node2.add_component(model='NIC_Basic', name=node2_nic_name).get_interfaces()[0]\n",
    "    node2.set_image(image)\n",
    "    \n",
    "    # Network\n",
    "    net1 = slice4.add_l2network(name=network_name, interfaces=[iface1, iface2])\n",
    "\n",
    "    #Submit Slice Request\n",
    "    slice4.submit()\n",
    "except Exception as e:\n",
    "    print(f\"Exception: {e}\")"
   ]
  },
  {
   "cell_type": "markdown",
   "metadata": {
    "tags": []
   },
   "source": [
    "## Observe the Slice's Attributes\n",
    "\n",
    "### Print the slice "
   ]
  },
  {
   "cell_type": "code",
   "execution_count": 62,
   "metadata": {
    "tags": []
   },
   "outputs": [
    {
     "name": "stdout",
     "output_type": "stream",
     "text": [
      "---------------  ------------------------------------\n",
      "Slice Name       MySlice1\n",
      "Slice ID         6b427c19-1aef-4302-9fe1-8a8e143df119\n",
      "Slice State      StableOK\n",
      "Lease End (UTC)  2022-07-21 12:50:17 +0000\n",
      "---------------  ------------------------------------\n"
     ]
    }
   ],
   "source": [
    "try:\n",
    "    slice4 = fablib.get_slice(name=slice_name)\n",
    "    print(f\"{slice4}\")\n",
    "except Exception as e:\n",
    "    print(f\"Exception: {e}\")"
   ]
  },
  {
   "cell_type": "markdown",
   "metadata": {
    "tags": []
   },
   "source": [
    "## Print the Node List"
   ]
  },
  {
   "cell_type": "code",
   "execution_count": 63,
   "metadata": {},
   "outputs": [
    {
     "name": "stdout",
     "output_type": "stream",
     "text": [
      "ID                                    Name    Site    Host                         Cores    RAM    Disk  Image              Management IP    State    Error\n",
      "------------------------------------  ------  ------  -------------------------  -------  -----  ------  -----------------  ---------------  -------  -------\n",
      "aadfc032-4482-4ed2-ae12-cd3a6b554043  Node1   MAX     max-w4.fabric-testbed.net       32    128      10  default_ubuntu_20  63.239.135.84    Active\n",
      "181de3af-789c-4a7a-857a-c36d1dfc9d34  Node2   MAX     max-w5.fabric-testbed.net       32    128      10  default_ubuntu_20  63.239.135.95    Active\n"
     ]
    }
   ],
   "source": [
    "try:\n",
    "    slice4 = fablib.get_slice(name=slice_name)\n",
    "\n",
    "    print(f\"{slice4.list_nodes()}\")\n",
    "except Exception as e:\n",
    "    print(f\"Exception: {e}\")"
   ]
  },
  {
   "cell_type": "markdown",
   "metadata": {},
   "source": [
    "## Print the Node Details"
   ]
  },
  {
   "cell_type": "code",
   "execution_count": 64,
   "metadata": {},
   "outputs": [
    {
     "name": "stdout",
     "output_type": "stream",
     "text": [
      "-----------------  ------------------------------------------------------------------------------------------------------\n",
      "ID                 aadfc032-4482-4ed2-ae12-cd3a6b554043\n",
      "Name               Node1\n",
      "Cores              32\n",
      "RAM                128\n",
      "Disk               10\n",
      "Image              default_ubuntu_20\n",
      "Image Type         qcow2\n",
      "Host               max-w4.fabric-testbed.net\n",
      "Site               MAX\n",
      "Management IP      63.239.135.84\n",
      "Reservation State  Active\n",
      "Error Message\n",
      "SSH Command        ssh -i /home/fabric/.ssh/id_rsa -J minawm_0041350787@bastion-1.fabric-testbed.net ubuntu@63.239.135.84\n",
      "-----------------  ------------------------------------------------------------------------------------------------------\n",
      "-----------------  ------------------------------------------------------------------------------------------------------\n",
      "ID                 181de3af-789c-4a7a-857a-c36d1dfc9d34\n",
      "Name               Node2\n",
      "Cores              32\n",
      "RAM                128\n",
      "Disk               10\n",
      "Image              default_ubuntu_20\n",
      "Image Type         qcow2\n",
      "Host               max-w5.fabric-testbed.net\n",
      "Site               MAX\n",
      "Management IP      63.239.135.95\n",
      "Reservation State  Active\n",
      "Error Message\n",
      "SSH Command        ssh -i /home/fabric/.ssh/id_rsa -J minawm_0041350787@bastion-1.fabric-testbed.net ubuntu@63.239.135.95\n",
      "-----------------  ------------------------------------------------------------------------------------------------------\n"
     ]
    }
   ],
   "source": [
    "try:\n",
    "    slice4 = fablib.get_slice(name=slice_name)\n",
    "    for node in slice4.get_nodes():\n",
    "        print(f\"{node}\")\n",
    "except Exception as e:\n",
    "    print(f\"Exception: {e}\")"
   ]
  },
  {
   "cell_type": "markdown",
   "metadata": {},
   "source": [
    "## Print the Interfaces"
   ]
  },
  {
   "cell_type": "code",
   "execution_count": 65,
   "metadata": {},
   "outputs": [
    {
     "name": "stdout",
     "output_type": "stream",
     "text": [
      "Name           Node    Network      Bandwidth  VLAN    MAC                Physical OS Interface    OS Interface\n",
      "-------------  ------  ---------  -----------  ------  -----------------  -----------------------  --------------\n",
      "Node1-nic1-p1  Node1   net1                 0          16:F5:89:97:9C:62  ens7                     ens7\n",
      "Node2-nic2-p1  Node2   net1                 0          02:1A:9D:93:82:A9  ens7                     ens7\n"
     ]
    }
   ],
   "source": [
    "try:\n",
    "    slice4 = fablib.get_slice(name=slice_name)\n",
    "    \n",
    "    print(f\"{slice4.list_interfaces()}\")\n",
    "except Exception as e:\n",
    "    print(f\"Exception: {e}\")"
   ]
  },
  {
   "cell_type": "markdown",
   "metadata": {},
   "source": [
    "##  Configure IP Addresses\n",
    "\n",
    "Some experiments use FABRIC layer 2 networks to enable deploying non-IP layer 3 networks.  If this describes your experiment, your nodes and network are ready. You can now login to the nodes and deploy your experiment.\n",
    "\n",
    "Most users will want to configure IP addresses on there new nodes.  FABlib provides some useful methods to help you configure basic IP addresses. \n",
    "\n",
    "### Pick a Subnet\n",
    "\n",
    "Create a subnet and list of available IP addresses. All objects are Python IP management objects. You can use either IPv4 or IPv6 subnets and addresses."
   ]
  },
  {
   "cell_type": "code",
   "execution_count": 66,
   "metadata": {},
   "outputs": [],
   "source": [
    "from ipaddress import ip_address, IPv4Address, IPv6Address, IPv4Network, IPv6Network\n",
    "\n",
    "try:\n",
    "    subnet = IPv4Network(\"192.168.1.0/24\")\n",
    "    available_ips = list(subnet)[1:]\n",
    "except Exception as e:\n",
    "    print(f\"Exception: {e}\")"
   ]
  },
  {
   "cell_type": "markdown",
   "metadata": {},
   "source": [
    "### Configure Node1\n",
    "\n",
    "Get the node and the interface you wish to configure.  You can use `node.get_interface` to get the interface that is connected to the specified network.  Then `pop` an IP address from the list of available IPs and call `iface.ip_addr_add` to set the IP and subnet.  \n",
    "\n",
    "Optionally, use the `node.execute()` method to show the results of adding the IP address."
   ]
  },
  {
   "cell_type": "code",
   "execution_count": 67,
   "metadata": {},
   "outputs": [
    {
     "name": "stdout",
     "output_type": "stream",
     "text": [
      "3: ens7: <BROADCAST,MULTICAST,UP,LOWER_UP> mtu 1500 qdisc mq state UP group default qlen 1000\n",
      "    link/ether 16:f5:89:97:9c:62 brd ff:ff:ff:ff:ff:ff\n",
      "    inet 192.168.1.1/24 scope global ens7\n",
      "       valid_lft forever preferred_lft forever\n",
      "    inet6 fe80::14f5:89ff:fe97:9c62/64 scope link \n",
      "       valid_lft forever preferred_lft forever\n",
      "\n"
     ]
    }
   ],
   "source": [
    "try:\n",
    "    node1 = slice4.get_node(name=node1_name)        \n",
    "    node1_iface = node1.get_interface(network_name=network_name) \n",
    "    node1_addr = available_ips.pop(0)\n",
    "    node1_iface.ip_addr_add(addr=node1_addr, subnet=subnet)\n",
    "    \n",
    "    stdout, stderr = node1.execute(f'ip addr show {node1_iface.get_os_interface()}')\n",
    "    print (stdout)\n",
    "    \n",
    "except Exception as e:\n",
    "    print(f\"Exception: {e}\")"
   ]
  },
  {
   "cell_type": "markdown",
   "metadata": {},
   "source": [
    "### Configure Node2\n",
    "\n",
    "Repeat the steps to add the next available IP to the second node."
   ]
  },
  {
   "cell_type": "code",
   "execution_count": 68,
   "metadata": {},
   "outputs": [
    {
     "name": "stdout",
     "output_type": "stream",
     "text": [
      "3: ens7: <BROADCAST,MULTICAST,UP,LOWER_UP> mtu 1500 qdisc mq state UP group default qlen 1000\n",
      "    link/ether 02:1a:9d:93:82:a9 brd ff:ff:ff:ff:ff:ff\n",
      "    inet 192.168.1.2/24 scope global ens7\n",
      "       valid_lft forever preferred_lft forever\n",
      "    inet6 fe80::1a:9dff:fe93:82a9/64 scope link \n",
      "       valid_lft forever preferred_lft forever\n",
      "\n"
     ]
    }
   ],
   "source": [
    "try:\n",
    "    node2 = slice4.get_node(name=node2_name)        \n",
    "    node2_iface = node2.get_interface(network_name=network_name)  \n",
    "    node2_addr = available_ips.pop(0)\n",
    "    node2_iface.ip_addr_add(addr=node2_addr, subnet=subnet)\n",
    "    \n",
    "    stdout, stderr = node2.execute(f'ip addr show {node2_iface.get_os_interface()}')\n",
    "    print (stdout)\n",
    "    \n",
    "except Exception as e:\n",
    "    print(f\"Exception: {e}\")"
   ]
  },
  {
   "cell_type": "markdown",
   "metadata": {},
   "source": [
    "## Run the Experiment\n",
    "\n",
    "We will find the ping round trip time for this pair of sites.  Your experiment should be more interesting!\n"
   ]
  },
  {
   "cell_type": "code",
   "execution_count": 69,
   "metadata": {},
   "outputs": [
    {
     "name": "stdout",
     "output_type": "stream",
     "text": [
      "PING 192.168.1.2 (192.168.1.2) 56(84) bytes of data.\n",
      "64 bytes from 192.168.1.2: icmp_seq=1 ttl=64 time=0.336 ms\n",
      "64 bytes from 192.168.1.2: icmp_seq=2 ttl=64 time=0.096 ms\n",
      "64 bytes from 192.168.1.2: icmp_seq=3 ttl=64 time=0.067 ms\n",
      "64 bytes from 192.168.1.2: icmp_seq=4 ttl=64 time=0.061 ms\n",
      "64 bytes from 192.168.1.2: icmp_seq=5 ttl=64 time=0.053 ms\n",
      "\n",
      "--- 192.168.1.2 ping statistics ---\n",
      "5 packets transmitted, 5 received, 0% packet loss, time 4089ms\n",
      "rtt min/avg/max/mdev = 0.053/0.122/0.336/0.107 ms\n",
      "\n",
      "\n"
     ]
    }
   ],
   "source": [
    "try:\n",
    "#     node1 = slice4.get_node(name=node1_name)        \n",
    "\n",
    "    stdout, stderr = node1.execute(f'ping -c 5 {node2_addr}')\n",
    "    print (stdout)\n",
    "    print (stderr)\n",
    "    \n",
    "except Exception as e:\n",
    "    print(f\"Exception: {e}\")"
   ]
  },
  {
   "cell_type": "markdown",
   "metadata": {},
   "source": [
    "---"
   ]
  },
  {
   "cell_type": "markdown",
   "metadata": {},
   "source": [
    "## Installing iperf"
   ]
  },
  {
   "cell_type": "code",
   "execution_count": 70,
   "metadata": {},
   "outputs": [
    {
     "name": "stdout",
     "output_type": "stream",
     "text": [
      "Hit:1 http://nova.clouds.archive.ubuntu.com/ubuntu focal InRelease\n",
      "Get:2 http://nova.clouds.archive.ubuntu.com/ubuntu focal-updates InRelease [114 kB]\n",
      "Get:3 http://nova.clouds.archive.ubuntu.com/ubuntu focal-backports InRelease [108 kB]\n",
      "Get:4 http://nova.clouds.archive.ubuntu.com/ubuntu focal/universe amd64 Packages [8628 kB]\n",
      "Get:5 http://security.ubuntu.com/ubuntu focal-security InRelease [114 kB]\n",
      "Get:6 http://nova.clouds.archive.ubuntu.com/ubuntu focal/universe Translation-en [5124 kB]\n",
      "Get:7 http://nova.clouds.archive.ubuntu.com/ubuntu focal/universe amd64 c-n-f Metadata [265 kB]\n",
      "Get:8 http://nova.clouds.archive.ubuntu.com/ubuntu focal/multiverse amd64 Packages [144 kB]\n",
      "Get:9 http://nova.clouds.archive.ubuntu.com/ubuntu focal/multiverse Translation-en [104 kB]\n",
      "Get:10 http://nova.clouds.archive.ubuntu.com/ubuntu focal/multiverse amd64 c-n-f Metadata [9136 B]\n",
      "Get:11 http://nova.clouds.archive.ubuntu.com/ubuntu focal-updates/main amd64 Packages [1989 kB]\n",
      "Get:12 http://nova.clouds.archive.ubuntu.com/ubuntu focal-updates/main Translation-en [358 kB]\n",
      "Get:13 http://nova.clouds.archive.ubuntu.com/ubuntu focal-updates/main amd64 c-n-f Metadata [15.6 kB]\n",
      "Get:14 http://nova.clouds.archive.ubuntu.com/ubuntu focal-updates/restricted amd64 Packages [1178 kB]\n",
      "Get:15 http://nova.clouds.archive.ubuntu.com/ubuntu focal-updates/restricted Translation-en [167 kB]\n",
      "Get:16 http://nova.clouds.archive.ubuntu.com/ubuntu focal-updates/restricted amd64 c-n-f Metadata [592 B]\n",
      "Get:17 http://nova.clouds.archive.ubuntu.com/ubuntu focal-updates/universe amd64 Packages [923 kB]\n",
      "Get:18 http://nova.clouds.archive.ubuntu.com/ubuntu focal-updates/universe Translation-en [208 kB]\n",
      "Get:19 http://nova.clouds.archive.ubuntu.com/ubuntu focal-updates/universe amd64 c-n-f Metadata [20.9 kB]\n",
      "Get:20 http://nova.clouds.archive.ubuntu.com/ubuntu focal-updates/multiverse amd64 Packages [24.4 kB]\n",
      "Get:21 http://nova.clouds.archive.ubuntu.com/ubuntu focal-updates/multiverse Translation-en [7336 B]\n",
      "Get:22 http://nova.clouds.archive.ubuntu.com/ubuntu focal-updates/multiverse amd64 c-n-f Metadata [592 B]\n",
      "Get:23 http://nova.clouds.archive.ubuntu.com/ubuntu focal-backports/main amd64 Packages [44.8 kB]\n",
      "Get:24 http://nova.clouds.archive.ubuntu.com/ubuntu focal-backports/main Translation-en [11.3 kB]\n",
      "Get:25 http://nova.clouds.archive.ubuntu.com/ubuntu focal-backports/main amd64 c-n-f Metadata [976 B]\n",
      "Get:26 http://nova.clouds.archive.ubuntu.com/ubuntu focal-backports/restricted amd64 c-n-f Metadata [116 B]\n",
      "Get:27 http://nova.clouds.archive.ubuntu.com/ubuntu focal-backports/universe amd64 Packages [23.7 kB]\n",
      "Get:28 http://nova.clouds.archive.ubuntu.com/ubuntu focal-backports/universe Translation-en [15.9 kB]\n",
      "Get:29 http://nova.clouds.archive.ubuntu.com/ubuntu focal-backports/universe amd64 c-n-f Metadata [860 B]\n",
      "Get:30 http://nova.clouds.archive.ubuntu.com/ubuntu focal-backports/multiverse amd64 c-n-f Metadata [116 B]\n",
      "Get:31 http://security.ubuntu.com/ubuntu focal-security/main amd64 Packages [1628 kB]\n",
      "Get:32 http://security.ubuntu.com/ubuntu focal-security/main Translation-en [277 kB]\n",
      "Get:33 http://security.ubuntu.com/ubuntu focal-security/main amd64 c-n-f Metadata [10.8 kB]\n",
      "Get:34 http://security.ubuntu.com/ubuntu focal-security/restricted amd64 Packages [1089 kB]\n",
      "Get:35 http://security.ubuntu.com/ubuntu focal-security/restricted Translation-en [155 kB]\n",
      "Get:36 http://security.ubuntu.com/ubuntu focal-security/restricted amd64 c-n-f Metadata [572 B]\n",
      "Get:37 http://security.ubuntu.com/ubuntu focal-security/universe amd64 Packages [711 kB]\n",
      "Get:38 http://security.ubuntu.com/ubuntu focal-security/universe Translation-en [128 kB]\n",
      "Get:39 http://security.ubuntu.com/ubuntu focal-security/universe amd64 c-n-f Metadata [14.6 kB]\n",
      "Get:40 http://security.ubuntu.com/ubuntu focal-security/multiverse amd64 Packages [22.2 kB]\n",
      "Get:41 http://security.ubuntu.com/ubuntu focal-security/multiverse Translation-en [5376 B]\n",
      "Get:42 http://security.ubuntu.com/ubuntu focal-security/multiverse amd64 c-n-f Metadata [512 B]\n",
      "Fetched 23.6 MB in 3s (7087 kB/s)\n",
      "Reading package lists...\n",
      "Building dependency tree...\n",
      "Reading state information...\n",
      "151 packages can be upgraded. Run 'apt list --upgradable' to see them.\n",
      "Reading package lists...\n",
      "Building dependency tree...\n",
      "Reading state information...\n",
      "The following additional packages will be installed:\n",
      "  libiperf0 libsctp1\n",
      "Suggested packages:\n",
      "  lksctp-tools\n",
      "The following NEW packages will be installed:\n",
      "  iperf iperf3 libiperf0 libsctp1\n",
      "0 upgraded, 4 newly installed, 0 to remove and 151 not upgraded.\n",
      "Need to get 171 kB of archives.\n",
      "After this operation, 544 kB of additional disk space will be used.\n",
      "Get:1 http://nova.clouds.archive.ubuntu.com/ubuntu focal/universe amd64 iperf amd64 2.0.13+dfsg1-1build1 [76.5 kB]\n",
      "Get:2 http://nova.clouds.archive.ubuntu.com/ubuntu focal/main amd64 libsctp1 amd64 1.0.18+dfsg-1 [7876 B]\n",
      "Get:3 http://nova.clouds.archive.ubuntu.com/ubuntu focal/universe amd64 libiperf0 amd64 3.7-3 [72.0 kB]\n",
      "Get:4 http://nova.clouds.archive.ubuntu.com/ubuntu focal/universe amd64 iperf3 amd64 3.7-3 [14.2 kB]\n",
      "Fetched 171 kB in 0s (1654 kB/s)\n",
      "Selecting previously unselected package iperf.\n",
      "(Reading database ... 63577 files and directories currently installed.)\n",
      "Preparing to unpack .../iperf_2.0.13+dfsg1-1build1_amd64.deb ...\n",
      "Unpacking iperf (2.0.13+dfsg1-1build1) ...\n",
      "Selecting previously unselected package libsctp1:amd64.\n",
      "Preparing to unpack .../libsctp1_1.0.18+dfsg-1_amd64.deb ...\n",
      "Unpacking libsctp1:amd64 (1.0.18+dfsg-1) ...\n",
      "Selecting previously unselected package libiperf0:amd64.\n",
      "Preparing to unpack .../libiperf0_3.7-3_amd64.deb ...\n",
      "Unpacking libiperf0:amd64 (3.7-3) ...\n",
      "Selecting previously unselected package iperf3.\n",
      "Preparing to unpack .../iperf3_3.7-3_amd64.deb ...\n",
      "Unpacking iperf3 (3.7-3) ...\n",
      "Setting up iperf (2.0.13+dfsg1-1build1) ...\n",
      "Setting up libsctp1:amd64 (1.0.18+dfsg-1) ...\n",
      "Setting up libiperf0:amd64 (3.7-3) ...\n",
      "Setting up iperf3 (3.7-3) ...\n",
      "Processing triggers for man-db (2.9.1-1) ...\n",
      "Processing triggers for libc-bin (2.31-0ubuntu9.2) ...\n",
      "\n",
      "\n",
      "WARNING: apt does not have a stable CLI interface. Use with caution in scripts.\n",
      "\n",
      "\n",
      "WARNING: apt does not have a stable CLI interface. Use with caution in scripts.\n",
      "\n",
      "debconf: unable to initialize frontend: Dialog\n",
      "debconf: (Dialog frontend will not work on a dumb terminal, an emacs shell buffer, or without a controlling terminal.)\n",
      "debconf: falling back to frontend: Readline\n",
      "debconf: unable to initialize frontend: Readline\n",
      "debconf: (This frontend requires a controlling tty.)\n",
      "debconf: falling back to frontend: Teletype\n",
      "dpkg-preconfigure: unable to re-open stdin: \n",
      "\n",
      "Hit:1 http://nova.clouds.archive.ubuntu.com/ubuntu focal InRelease\n",
      "Get:2 http://nova.clouds.archive.ubuntu.com/ubuntu focal-updates InRelease [114 kB]\n",
      "Get:3 http://nova.clouds.archive.ubuntu.com/ubuntu focal-backports InRelease [108 kB]\n",
      "Get:4 http://nova.clouds.archive.ubuntu.com/ubuntu focal/universe amd64 Packages [8628 kB]\n",
      "Get:5 http://security.ubuntu.com/ubuntu focal-security InRelease [114 kB]\n",
      "Get:6 http://nova.clouds.archive.ubuntu.com/ubuntu focal/universe Translation-en [5124 kB]\n",
      "Get:7 http://nova.clouds.archive.ubuntu.com/ubuntu focal/universe amd64 c-n-f Metadata [265 kB]\n",
      "Get:8 http://nova.clouds.archive.ubuntu.com/ubuntu focal/multiverse amd64 Packages [144 kB]\n",
      "Get:9 http://nova.clouds.archive.ubuntu.com/ubuntu focal/multiverse Translation-en [104 kB]\n",
      "Get:10 http://nova.clouds.archive.ubuntu.com/ubuntu focal/multiverse amd64 c-n-f Metadata [9136 B]\n",
      "Get:11 http://nova.clouds.archive.ubuntu.com/ubuntu focal-updates/main amd64 Packages [1989 kB]\n",
      "Get:12 http://nova.clouds.archive.ubuntu.com/ubuntu focal-updates/main Translation-en [358 kB]\n",
      "Get:13 http://nova.clouds.archive.ubuntu.com/ubuntu focal-updates/main amd64 c-n-f Metadata [15.6 kB]\n",
      "Get:14 http://nova.clouds.archive.ubuntu.com/ubuntu focal-updates/restricted amd64 Packages [1178 kB]\n",
      "Get:15 http://nova.clouds.archive.ubuntu.com/ubuntu focal-updates/restricted Translation-en [167 kB]\n",
      "Get:16 http://nova.clouds.archive.ubuntu.com/ubuntu focal-updates/restricted amd64 c-n-f Metadata [592 B]\n",
      "Get:17 http://nova.clouds.archive.ubuntu.com/ubuntu focal-updates/universe amd64 Packages [923 kB]\n",
      "Get:18 http://nova.clouds.archive.ubuntu.com/ubuntu focal-updates/universe Translation-en [208 kB]\n",
      "Get:19 http://nova.clouds.archive.ubuntu.com/ubuntu focal-updates/universe amd64 c-n-f Metadata [20.9 kB]\n",
      "Get:20 http://nova.clouds.archive.ubuntu.com/ubuntu focal-updates/multiverse amd64 Packages [24.4 kB]\n",
      "Get:21 http://nova.clouds.archive.ubuntu.com/ubuntu focal-updates/multiverse Translation-en [7336 B]\n",
      "Get:22 http://nova.clouds.archive.ubuntu.com/ubuntu focal-updates/multiverse amd64 c-n-f Metadata [592 B]\n",
      "Get:23 http://nova.clouds.archive.ubuntu.com/ubuntu focal-backports/main amd64 Packages [44.8 kB]\n",
      "Get:24 http://nova.clouds.archive.ubuntu.com/ubuntu focal-backports/main Translation-en [11.3 kB]\n",
      "Get:25 http://nova.clouds.archive.ubuntu.com/ubuntu focal-backports/main amd64 c-n-f Metadata [976 B]\n",
      "Get:26 http://nova.clouds.archive.ubuntu.com/ubuntu focal-backports/restricted amd64 c-n-f Metadata [116 B]\n",
      "Get:27 http://nova.clouds.archive.ubuntu.com/ubuntu focal-backports/universe amd64 Packages [23.7 kB]\n",
      "Get:28 http://nova.clouds.archive.ubuntu.com/ubuntu focal-backports/universe Translation-en [15.9 kB]\n",
      "Get:29 http://nova.clouds.archive.ubuntu.com/ubuntu focal-backports/universe amd64 c-n-f Metadata [860 B]\n",
      "Get:30 http://nova.clouds.archive.ubuntu.com/ubuntu focal-backports/multiverse amd64 c-n-f Metadata [116 B]\n",
      "Get:31 http://security.ubuntu.com/ubuntu focal-security/main amd64 Packages [1628 kB]\n",
      "Get:32 http://security.ubuntu.com/ubuntu focal-security/main Translation-en [277 kB]\n",
      "Get:33 http://security.ubuntu.com/ubuntu focal-security/main amd64 c-n-f Metadata [10.8 kB]\n",
      "Get:34 http://security.ubuntu.com/ubuntu focal-security/restricted amd64 Packages [1089 kB]\n",
      "Get:35 http://security.ubuntu.com/ubuntu focal-security/restricted Translation-en [155 kB]\n",
      "Get:36 http://security.ubuntu.com/ubuntu focal-security/restricted amd64 c-n-f Metadata [572 B]\n",
      "Get:37 http://security.ubuntu.com/ubuntu focal-security/universe amd64 Packages [711 kB]\n",
      "Get:38 http://security.ubuntu.com/ubuntu focal-security/universe Translation-en [128 kB]\n",
      "Get:39 http://security.ubuntu.com/ubuntu focal-security/universe amd64 c-n-f Metadata [14.6 kB]\n",
      "Get:40 http://security.ubuntu.com/ubuntu focal-security/multiverse amd64 Packages [22.2 kB]\n",
      "Get:41 http://security.ubuntu.com/ubuntu focal-security/multiverse Translation-en [5376 B]\n",
      "Get:42 http://security.ubuntu.com/ubuntu focal-security/multiverse amd64 c-n-f Metadata [512 B]\n",
      "Fetched 23.6 MB in 3s (7336 kB/s)\n",
      "Reading package lists...\n",
      "Building dependency tree...\n",
      "Reading state information...\n",
      "151 packages can be upgraded. Run 'apt list --upgradable' to see them.\n",
      "Reading package lists...\n",
      "Building dependency tree...\n",
      "Reading state information...\n",
      "The following additional packages will be installed:\n",
      "  libiperf0 libsctp1\n",
      "Suggested packages:\n",
      "  lksctp-tools\n",
      "The following NEW packages will be installed:\n",
      "  iperf iperf3 libiperf0 libsctp1\n",
      "0 upgraded, 4 newly installed, 0 to remove and 151 not upgraded.\n",
      "Need to get 171 kB of archives.\n",
      "After this operation, 544 kB of additional disk space will be used.\n",
      "Get:1 http://nova.clouds.archive.ubuntu.com/ubuntu focal/universe amd64 iperf amd64 2.0.13+dfsg1-1build1 [76.5 kB]\n",
      "Get:2 http://nova.clouds.archive.ubuntu.com/ubuntu focal/main amd64 libsctp1 amd64 1.0.18+dfsg-1 [7876 B]\n",
      "Get:3 http://nova.clouds.archive.ubuntu.com/ubuntu focal/universe amd64 libiperf0 amd64 3.7-3 [72.0 kB]\n",
      "Get:4 http://nova.clouds.archive.ubuntu.com/ubuntu focal/universe amd64 iperf3 amd64 3.7-3 [14.2 kB]\n",
      "Fetched 171 kB in 0s (1638 kB/s)\n",
      "Selecting previously unselected package iperf.\n",
      "(Reading database ... 63577 files and directories currently installed.)\n",
      "Preparing to unpack .../iperf_2.0.13+dfsg1-1build1_amd64.deb ...\n",
      "Unpacking iperf (2.0.13+dfsg1-1build1) ...\n",
      "Selecting previously unselected package libsctp1:amd64.\n",
      "Preparing to unpack .../libsctp1_1.0.18+dfsg-1_amd64.deb ...\n",
      "Unpacking libsctp1:amd64 (1.0.18+dfsg-1) ...\n",
      "Selecting previously unselected package libiperf0:amd64.\n",
      "Preparing to unpack .../libiperf0_3.7-3_amd64.deb ...\n",
      "Unpacking libiperf0:amd64 (3.7-3) ...\n",
      "Selecting previously unselected package iperf3.\n",
      "Preparing to unpack .../iperf3_3.7-3_amd64.deb ...\n",
      "Unpacking iperf3 (3.7-3) ...\n",
      "Setting up iperf (2.0.13+dfsg1-1build1) ...\n",
      "Setting up libsctp1:amd64 (1.0.18+dfsg-1) ...\n",
      "Setting up libiperf0:amd64 (3.7-3) ...\n",
      "Setting up iperf3 (3.7-3) ...\n",
      "Processing triggers for man-db (2.9.1-1) ...\n",
      "Processing triggers for libc-bin (2.31-0ubuntu9.2) ...\n",
      "\n",
      "\n",
      "WARNING: apt does not have a stable CLI interface. Use with caution in scripts.\n",
      "\n",
      "\n",
      "WARNING: apt does not have a stable CLI interface. Use with caution in scripts.\n",
      "\n",
      "debconf: unable to initialize frontend: Dialog\n",
      "debconf: (Dialog frontend will not work on a dumb terminal, an emacs shell buffer, or without a controlling terminal.)\n",
      "debconf: falling back to frontend: Readline\n",
      "debconf: unable to initialize frontend: Readline\n",
      "debconf: (This frontend requires a controlling tty.)\n",
      "debconf: falling back to frontend: Teletype\n",
      "dpkg-preconfigure: unable to re-open stdin: \n",
      "\n"
     ]
    }
   ],
   "source": [
    "stdout, stderr = node1.execute(f'sudo apt update && sudo apt install -y iperf iperf3')\n",
    "print (stdout)\n",
    "print (stderr)\n",
    "\n",
    "stdout, stderr = node2.execute(f'sudo apt update && sudo apt install -y iperf iperf3')\n",
    "print (stdout)\n",
    "print (stderr)"
   ]
  },
  {
   "cell_type": "markdown",
   "metadata": {},
   "source": [
    "## Setting Parameters"
   ]
  },
  {
   "cell_type": "code",
   "execution_count": 75,
   "metadata": {},
   "outputs": [
    {
     "name": "stdout",
     "output_type": "stream",
     "text": [
      "net.core.rmem_max = 2147483647\n",
      "net.core.wmem_max = 2147483647\n",
      "net.ipv4.tcp_rmem = 4096 87380 2147483647\n",
      "net.ipv4.tcp_wmem = 4096 65536 2147483647\n",
      "net.ipv4.tcp_congestion_control=htcp\n",
      "net.ipv4.tcp_mtu_probing=1\n",
      "net.core.default_qdisc = fq\n",
      "\n",
      "net.core.rmem_max = 2147483647\n",
      "net.core.wmem_max = 2147483647\n",
      "net.ipv4.tcp_rmem = 4096 87380 2147483647\n",
      "net.ipv4.tcp_wmem = 4096 65536 2147483647\n",
      "net.ipv4.tcp_congestion_control = htcp\n",
      "net.ipv4.tcp_mtu_probing = 1\n",
      "net.core.default_qdisc = fq\n",
      "\n",
      "\n"
     ]
    }
   ],
   "source": [
    "stdout, stderr = node1.execute('echo \"net.core.rmem_max = 2147483647\\nnet.core.wmem_max = 2147483647\\nnet.ipv4.tcp_rmem = 4096 87380 2147483647\\nnet.ipv4.tcp_wmem = 4096 65536 2147483647\\nnet.ipv4.tcp_congestion_control=htcp\\nnet.ipv4.tcp_mtu_probing=1\\nnet.core.default_qdisc = fq\\n\" | sudo tee -a /etc/sysctl.conf && sudo sysctl -p')\n",
    "print (stdout)\n",
    "print (stderr)"
   ]
  },
  {
   "cell_type": "code",
   "execution_count": 76,
   "metadata": {},
   "outputs": [
    {
     "name": "stdout",
     "output_type": "stream",
     "text": [
      "net.core.rmem_max = 2147483647\n",
      "net.core.wmem_max = 2147483647\n",
      "net.ipv4.tcp_rmem = 4096 87380 2147483647\n",
      "net.ipv4.tcp_wmem = 4096 65536 2147483647\n",
      "net.ipv4.tcp_congestion_control=htcp\n",
      "net.ipv4.tcp_mtu_probing=1\n",
      "net.core.default_qdisc = fq\n",
      "\n",
      "net.core.rmem_max = 2147483647\n",
      "net.core.wmem_max = 2147483647\n",
      "net.ipv4.tcp_rmem = 4096 87380 2147483647\n",
      "net.ipv4.tcp_wmem = 4096 65536 2147483647\n",
      "net.ipv4.tcp_congestion_control = htcp\n",
      "net.ipv4.tcp_mtu_probing = 1\n",
      "net.core.default_qdisc = fq\n",
      "\n",
      "\n"
     ]
    }
   ],
   "source": [
    "stdout, stderr = node2.execute('echo \"net.core.rmem_max = 2147483647\\nnet.core.wmem_max = 2147483647\\nnet.ipv4.tcp_rmem = 4096 87380 2147483647\\nnet.ipv4.tcp_wmem = 4096 65536 2147483647\\nnet.ipv4.tcp_congestion_control=htcp\\nnet.ipv4.tcp_mtu_probing=1\\nnet.core.default_qdisc = fq\\n\" | sudo tee -a /etc/sysctl.conf && sudo sysctl -p')\n",
    "print (stdout)\n",
    "print (stderr)"
   ]
  },
  {
   "cell_type": "code",
   "execution_count": 79,
   "metadata": {},
   "outputs": [
    {
     "name": "stdout",
     "output_type": "stream",
     "text": [
      "\n",
      "\n"
     ]
    }
   ],
   "source": [
    "stdout, stderr = node1.execute('tmux new -d \\'iperf -s -f K\\'')\n",
    "print (stdout)\n",
    "print (stderr)"
   ]
  },
  {
   "cell_type": "code",
   "execution_count": 90,
   "metadata": {},
   "outputs": [
    {
     "name": "stdout",
     "output_type": "stream",
     "text": [
      "------------------------------------------------------------\n",
      "Client connecting to 192.168.1.1, TCP port 5001\n",
      "TCP window size: 1.95 GByte (WARNING: requested  999 MByte)\n",
      "------------------------------------------------------------\n",
      "[ 34] local 192.168.1.2 port 41556 connected with 192.168.1.1 port 5001\n",
      "[ 31] local 192.168.1.2 port 41552 connected with 192.168.1.1 port 5001\n",
      "[ 32] local 192.168.1.2 port 41550 connected with 192.168.1.1 port 5001\n",
      "[ 35] local 192.168.1.2 port 41554 connected with 192.168.1.1 port 5001\n",
      "[  5] local 192.168.1.2 port 41498 connected with 192.168.1.1 port 5001\n",
      "[  4] local 192.168.1.2 port 41496 connected with 192.168.1.1 port 5001\n",
      "[  3] local 192.168.1.2 port 41494 connected with 192.168.1.1 port 5001\n",
      "[  6] local 192.168.1.2 port 41500 connected with 192.168.1.1 port 5001\n",
      "[  7] local 192.168.1.2 port 41502 connected with 192.168.1.1 port 5001\n",
      "[  9] local 192.168.1.2 port 41504 connected with 192.168.1.1 port 5001\n",
      "[ 12] local 192.168.1.2 port 41506 connected with 192.168.1.1 port 5001\n",
      "[  8] local 192.168.1.2 port 41508 connected with 192.168.1.1 port 5001\n",
      "[ 10] local 192.168.1.2 port 41510 connected with 192.168.1.1 port 5001\n",
      "[ 14] local 192.168.1.2 port 41512 connected with 192.168.1.1 port 5001\n",
      "[ 13] local 192.168.1.2 port 41514 connected with 192.168.1.1 port 5001\n",
      "[ 18] local 192.168.1.2 port 41520 connected with 192.168.1.1 port 5001\n",
      "[ 11] local 192.168.1.2 port 41516 connected with 192.168.1.1 port 5001\n",
      "[ 19] local 192.168.1.2 port 41528 connected with 192.168.1.1 port 5001\n",
      "[ 16] local 192.168.1.2 port 41526 connected with 192.168.1.1 port 5001\n",
      "[ 20] local 192.168.1.2 port 41522 connected with 192.168.1.1 port 5001\n",
      "[ 15] local 192.168.1.2 port 41518 connected with 192.168.1.1 port 5001\n",
      "[ 21] local 192.168.1.2 port 41524 connected with 192.168.1.1 port 5001\n",
      "[ 26] local 192.168.1.2 port 41536 connected with 192.168.1.1 port 5001\n",
      "[ 17] local 192.168.1.2 port 41530 connected with 192.168.1.1 port 5001\n",
      "[ 23] local 192.168.1.2 port 41534 connected with 192.168.1.1 port 5001\n",
      "[ 25] local 192.168.1.2 port 41542 connected with 192.168.1.1 port 5001\n",
      "[ 24] local 192.168.1.2 port 41538 connected with 192.168.1.1 port 5001\n",
      "[ 27] local 192.168.1.2 port 41540 connected with 192.168.1.1 port 5001\n",
      "[ 30] local 192.168.1.2 port 41544 connected with 192.168.1.1 port 5001\n",
      "[ 22] local 192.168.1.2 port 41532 connected with 192.168.1.1 port 5001\n",
      "[ 29] local 192.168.1.2 port 41548 connected with 192.168.1.1 port 5001\n",
      "[ 28] local 192.168.1.2 port 41546 connected with 192.168.1.1 port 5001\n",
      "[ ID] Interval       Transfer     Bandwidth\n",
      "[ 31]  0.0-10.0 sec  2.27 GBytes  1.95 Gbits/sec\n",
      "[ 32]  0.0-10.0 sec  2.10 GBytes  1.80 Gbits/sec\n",
      "[ 35]  0.0-10.0 sec  2.57 GBytes  2.21 Gbits/sec\n",
      "[  5]  0.0-10.0 sec  2.17 GBytes  1.86 Gbits/sec\n",
      "[  4]  0.0-10.0 sec  2.81 GBytes  2.41 Gbits/sec\n",
      "[  3]  0.0-10.0 sec  2.54 GBytes  2.18 Gbits/sec\n",
      "[  6]  0.0-10.0 sec  2.68 GBytes  2.30 Gbits/sec\n",
      "[  7]  0.0-10.0 sec  3.00 GBytes  2.58 Gbits/sec\n",
      "[  9]  0.0-10.0 sec  2.87 GBytes  2.47 Gbits/sec\n",
      "[ 12]  0.0-10.0 sec  2.61 GBytes  2.24 Gbits/sec\n",
      "[  8]  0.0-10.0 sec  3.24 GBytes  2.78 Gbits/sec\n",
      "[ 10]  0.0-10.0 sec  2.06 GBytes  1.77 Gbits/sec\n",
      "[ 14]  0.0-10.0 sec  2.01 GBytes  1.73 Gbits/sec\n",
      "[ 18]  0.0-10.0 sec  2.98 GBytes  2.56 Gbits/sec\n",
      "[ 11]  0.0-10.0 sec  2.76 GBytes  2.37 Gbits/sec\n",
      "[ 19]  0.0-10.0 sec  2.52 GBytes  2.16 Gbits/sec\n",
      "[ 16]  0.0-10.0 sec  2.22 GBytes  1.91 Gbits/sec\n",
      "[ 20]  0.0-10.0 sec  2.69 GBytes  2.31 Gbits/sec\n",
      "[ 15]  0.0-10.0 sec  2.83 GBytes  2.43 Gbits/sec\n",
      "[ 26]  0.0-10.0 sec  3.00 GBytes  2.57 Gbits/sec\n",
      "[ 17]  0.0-10.0 sec  2.88 GBytes  2.48 Gbits/sec\n",
      "[ 23]  0.0-10.0 sec  3.04 GBytes  2.62 Gbits/sec\n",
      "[ 25]  0.0-10.0 sec  3.04 GBytes  2.62 Gbits/sec\n",
      "[ 24]  0.0-10.0 sec  3.08 GBytes  2.65 Gbits/sec\n",
      "[ 27]  0.0-10.0 sec  3.17 GBytes  2.72 Gbits/sec\n",
      "[ 30]  0.0-10.0 sec  2.78 GBytes  2.39 Gbits/sec\n",
      "[ 22]  0.0-10.0 sec  2.77 GBytes  2.38 Gbits/sec\n",
      "[ 29]  0.0-10.0 sec  2.17 GBytes  1.86 Gbits/sec\n",
      "[ 28]  0.0-10.0 sec  2.97 GBytes  2.55 Gbits/sec\n",
      "[ 34]  0.0-10.0 sec  1.68 GBytes  1.44 Gbits/sec\n",
      "[ 13]  0.0-10.0 sec  2.21 GBytes  1.90 Gbits/sec\n",
      "[ 21]  0.0-10.0 sec   677 MBytes   566 Mbits/sec\n",
      "[SUM]  0.0-10.0 sec  82.4 GBytes  70.5 Gbits/sec\n",
      "\n",
      "\n"
     ]
    }
   ],
   "source": [
    "stdout, stderr = node2.execute(f'iperf -c 192.168.1.1 -P 32 -w 999M') \n",
    "print (stdout)\n",
    "print (stderr)"
   ]
  },
  {
   "cell_type": "markdown",
   "metadata": {},
   "source": [
    "## Delete the Slice\n",
    "\n",
    "Please delete your slice when you are done with your experiment."
   ]
  },
  {
   "cell_type": "code",
   "execution_count": 59,
   "metadata": {},
   "outputs": [],
   "source": [
    "try:\n",
    "    slice = fablib.get_slice(name=slice_name)\n",
    "    slice.delete()\n",
    "except Exception as e:\n",
    "    print(f\"Exception: {e}\")"
   ]
  },
  {
   "cell_type": "code",
   "execution_count": null,
   "metadata": {},
   "outputs": [],
   "source": []
  }
 ],
 "metadata": {
  "kernelspec": {
   "display_name": "Python 3 (ipykernel)",
   "language": "python",
   "name": "python3"
  },
  "language_info": {
   "codemirror_mode": {
    "name": "ipython",
    "version": 3
   },
   "file_extension": ".py",
   "mimetype": "text/x-python",
   "name": "python",
   "nbconvert_exporter": "python",
   "pygments_lexer": "ipython3",
   "version": "3.9.7"
  }
 },
 "nbformat": 4,
 "nbformat_minor": 4
}
